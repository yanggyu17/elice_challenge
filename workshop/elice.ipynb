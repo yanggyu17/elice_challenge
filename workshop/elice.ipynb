{
 "cells": [
  {
   "cell_type": "markdown",
   "metadata": {},
   "source": [
    "# Elice"
   ]
  },
  {
   "cell_type": "markdown",
   "metadata": {},
   "source": [
    "## 면접\n",
    "\n",
    "### 최신트렌드 잘 아는지?\n",
    "- Attention seq2seq, rnn \n",
    "### ml 기초 지식 잘아는지?\n",
    "- regression이 무엇인지?, svm?\n",
    "### 전산 기초지식 튼튼한지?\n",
    "- semaphore? 자료구조?\n",
    "### 모델구현 어떻게 하는지?\n",
    "- 논문을 보고 구현할 수 있는지?\n",
    "- 모델 평가 결과가 곧 성과이므로 정확히 평가할 줄 아는지?\n",
    "### 잠재성이 좋은지?\n",
    "- 앞으로도 발전이 가능한가?\n",
    "\n",
    "## 딥러닝 하면서 느낀점\n",
    "- 데이터가 귀하다(다들 모델만드는 것은 잘한다. 데이터를 많이 확보하는것이 자산)\n",
    "- 데이터가 있으면 모델 개발할 사람을 뽑지 일을 맡기지 않는다\n",
    "- 데이터가 잘 정제될 수록 더 명쾌한 대답이 나온다\n",
    "- 데이터 전처리를 잘하는 방법 또한 매우 필수적\n",
    "- 보이는 것 이면이 중요하다. train test \n",
    "\n",
    "## 현업에서 느낀점\n",
    "- 100%는 없다\n",
    "- 제일 높은 것은 95%\n",
    "- 불완전한 답을 내는 것을 알고 가야함 (고객사에서 100% 아닌것에 종종 실망)\n",
    "\n",
    "## 데이터 사이언티스 정의\n",
    "- 의미있는 결론을 도출해주는 사람\n",
    "- 현상에 대한 해석\n",
    "- 분석을 통한 예측\n",
    "### 필요 능력\n",
    "- 데이터 가공능력\n",
    "- 확률과 통계\n",
    "- 코딩능력\n",
    "- 시스템 구축능력(데이터 처리를 위한 백엔드, 제품화 시킬때 프론트엔드 요소)\n",
    "- 열린 사고, 항상 배우려는 자세\n"
   ]
  },
  {
   "cell_type": "markdown",
   "metadata": {},
   "source": [
    "# 문제설명\n",
    "\n",
    "## 1round 네이버 영화평 감정분석\n",
    "\n",
    "- seed word expansion\n",
    "- Naive Bayes\n",
    "- wordnet\n",
    "- BOW + SVM\n",
    "- pLSI/Topic Modeling\n",
    "- x-level Word Embedding 글자, 자음 레벨에 임베딩\n",
    "\n",
    "## 2round 리그 오브 레전드 프로게이머 대전 승패 예측\n",
    "\n",
    "### feature Engineering\n",
    "- Normalization\n",
    "- Linear/logistic Regression\n",
    "- Decision tree / Regression tree\n",
    "- svc/svr\n",
    "- Factor analysis\n",
    "- probabilistic model 변수들간의 relation 발견하는 모델\n",
    "- DNN\n",
    "\n",
    "## 3round 뉴스 기사 텍스트로 언론사 추론\n",
    "\n",
    "### text classification\n",
    "\n",
    "- Feature Engineering(text)\n",
    "- Word Count\n",
    "- Bag of words\n",
    "- SVC\n",
    "- Topic Models\n",
    "- Ideal Point Model(in Politics) 글을 통해 사람의 스탠스를 알아낼 수 있다.(eg 진보인지 보수인지)\n",
    "- x-level Word Embedding\n",
    "\n",
    "## 4round 그래프로 미래의 주식 가격 예측\n",
    "\n",
    "- Just print the last price! ㅋㅋㅋ 주식 가격 변동이 크지 않다\n",
    "- Moving average\n",
    "- Momentum\n",
    "- Black-Scholes\n",
    "- Thousand of Heuristics and Theories\n",
    "- Bayesian Probabilisitc Models\n",
    "- RNN \n"
   ]
  }
 ],
 "metadata": {
  "kernelspec": {
   "display_name": "Python 3",
   "language": "python",
   "name": "python3"
  },
  "language_info": {
   "codemirror_mode": {
    "name": "ipython",
    "version": 3
   },
   "file_extension": ".py",
   "mimetype": "text/x-python",
   "name": "python",
   "nbconvert_exporter": "python",
   "pygments_lexer": "ipython3",
   "version": "3.5.1"
  }
 },
 "nbformat": 4,
 "nbformat_minor": 2
}
