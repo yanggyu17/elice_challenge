{
 "cells": [
  {
   "cell_type": "markdown",
   "metadata": {},
   "source": [
    "# 1Round\n",
    "\n",
    "### baseline model\n",
    "- scikit-learn\n",
    "- naive bayes, random forest svm = 60점\n",
    "\n",
    "### deep learning model\n",
    "- pytorch\n",
    "- RNN bidrectioinal GRU = 70점\n",
    "\n",
    "- CRNN 앞단에 conv layer = 성능은 비슷\n",
    "- Attention = 71점\n",
    "- BiLSTM GRU가 더 좋았음\n",
    "\n",
    "### More data\n",
    "- 주어진 데이터만 사용해야 되는 룰은 2라운드 부터 생김\n",
    "- 직접 크롤링 \n",
    "- 약 300만 건 데이터 사용 BiGRU = 86점\n",
    "- BiGRU + Attention = 88점\n",
    "- Ensemble 시도 했으나 성능이 나오지 않았음 (Majority voting)"
   ]
  },
  {
   "cell_type": "markdown",
   "metadata": {},
   "source": [
    "# 2Round\n",
    "\n",
    "### try 1\n",
    "- 챔피언 정보만 사용\n",
    "- RF, XGB DNN = 85점\n",
    "\n",
    "### try 2\n",
    "- 소환사 정보만을 사용\n",
    "- data augmentation\n",
    "- 약 85점\n",
    "\n",
    "### try 3\n",
    "- 소환사 정보 + 챔피언 정보 통합 = 약 85점\n",
    "- 두 정보 합치면 성능 개선 기대했으나 성능 개선이 없었음\n"
   ]
  },
  {
   "cell_type": "markdown",
   "metadata": {},
   "source": [
    "# 3Round\n",
    "\n",
    "### 문제 접근\n",
    "- 언론사 마다 논조, 스타일, 단어나 포맷이 다름\n",
    "- JTBC경우 구어체 그대로 실리는 경향\n",
    "- 서울신문경우 쌍따옴표이용해 간접전달 방식을 이용하는 경향\n",
    "- 언론사 별로 주로 쓰이는 기호가 있다. 데이터분석에 기호도 중요하다.\n",
    "\n",
    "### 문제 해결 전략\n",
    "- 음절 단위 학습\n",
    "- 음절의 위치, 순서\n",
    "- 특수기호를 보존해서 학습\n",
    "- 음절 기반 CNN or RNN 이용 / CNN 96%, RNN 87%\n",
    "\n",
    "### 데이터 전처리\n",
    "- 음절 사전 제작\n",
    "\n"
   ]
  },
  {
   "cell_type": "markdown",
   "metadata": {},
   "source": [
    "# 4Round\n",
    "\n",
    "### try\n",
    "- random, extra gboost 70점대\n",
    "- 최종 NN(with keras) 82점\n",
    "- hidden layer 2개"
   ]
  }
 ],
 "metadata": {
  "kernelspec": {
   "display_name": "Python 3",
   "language": "python",
   "name": "python3"
  },
  "language_info": {
   "codemirror_mode": {
    "name": "ipython",
    "version": 3
   },
   "file_extension": ".py",
   "mimetype": "text/x-python",
   "name": "python",
   "nbconvert_exporter": "python",
   "pygments_lexer": "ipython3",
   "version": "3.5.1"
  }
 },
 "nbformat": 4,
 "nbformat_minor": 2
}
